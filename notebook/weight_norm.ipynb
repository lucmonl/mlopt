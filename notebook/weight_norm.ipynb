{
 "cells": [
  {
   "cell_type": "code",
   "execution_count": 18,
   "metadata": {},
   "outputs": [],
   "source": [
    "def plot_figures_loss_eigs(train_graphs, lr):\n",
    "    cur_epochs = train_graphs.log_epochs\n",
    "    plt.figure(figsize=(15,5))\n",
    "\n",
    "    plt.subplot(2,5,2)\n",
    "    plt.semilogy(cur_epochs, train_graphs.loss)\n",
    "    #plt.legend(['Loss + Weight Decay'])\n",
    "    plt.xlabel('Epoch')\n",
    "    plt.ylabel('Value')\n",
    "    plt.title('Training Loss')\n",
    "\n",
    "    plt.subplot(2,5,3)\n",
    "    plt.plot(cur_epochs, train_graphs.accuracy)\n",
    "    #.legend(['Loss + Weight Decay'])\n",
    "    plt.xlabel('Epoch')\n",
    "    plt.ylabel('Value')\n",
    "    plt.title('Training Accuracy')\n",
    "\n",
    "    plt.subplot(2,5,4)\n",
    "    plt.semilogy(cur_epochs, train_graphs.wn_grad_loss_ratio)\n",
    "    #plt.legend(['Loss + Weight Decay'])\n",
    "    plt.xlabel('Epoch')\n",
    "    plt.ylabel('Value')\n",
    "    plt.title('Grad Loss Ratio')\n",
    "\n",
    "    plt.subplot(2,5,5)\n",
    "    plt.plot(cur_epochs, train_graphs.wn_norm_min)\n",
    "    #.legend(['Loss + Weight Decay'])\n",
    "    plt.xlabel('Epoch')\n",
    "    plt.ylabel('Value')\n",
    "    plt.title('Min Norm')\n",
    "\n",
    "    plt.tight_layout()\n",
    "    plt.show()\n"
   ]
  },
  {
   "cell_type": "code",
   "execution_count": 14,
   "metadata": {},
   "outputs": [],
   "source": [
    "import sys\n",
    "sys.path.append('..')\n",
    "from main import graphs\n",
    "import torch\n",
    "import pickle\n",
    "import matplotlib.pyplot as plt\n",
    "import numpy as np\n",
    "\n",
    "loss_name = 'MSELoss'\n",
    "\n",
    "def get_lookup_directory(lr, model_name, weight_decay, batch_size, **kwargs):\n",
    "    results_dir = \"results\"\n",
    "    directory = f\"{results_dir}/{dataset_name}/{opt_name}/{model_name}/\"\n",
    "    for key, value in kwargs.items():\n",
    "        directory += f\"{key}_{value}/\"\n",
    "    directory += f\"lr_{lr}/wd_{weight_decay}/batch_size_{batch_size}/\"\n",
    "    return directory\n",
    "\n",
    "def get_directory(lr, model_name, weight_decay, batch_size, epochs, **kwargs):\n",
    "    #results_dir = \"results\"\n",
    "    #directory = f\"{results_dir}/{model_name}/{dataset_name}/{opt_name}/lr_{lr}/wd_{weight_decay}/batch_size_{batch_size}/epoch_{epochs}/\"\n",
    "    directory = get_lookup_directory(lr, model_name, weight_decay, batch_size, **kwargs) + f\"epoch_{epochs}/\"\n",
    "    return directory"
   ]
  },
  {
   "cell_type": "code",
   "execution_count": 17,
   "metadata": {},
   "outputs": [],
   "source": [
    "lr, dataset_name, opt_name, weight_decay, batch_size, epochs = 0.01, \"cifar\", \"sgd\", 0.005, 512, 40000 \n",
    "wn_width = 512\n",
    "model_name = \"weight_norm_torch\"\n",
    "model_params = {\"width\": wn_width}\n",
    "directory = get_directory(lr, model_name, weight_decay, batch_size, epochs, **model_params)\n",
    "\n",
    "with open(f'../{directory}train_graphs.pk', 'rb') as f:\n",
    "    train_graphs = pickle.load(f)\n",
    "\n",
    "plot_figures(train_graphs, lr)"
   ]
  },
  {
   "cell_type": "code",
   "execution_count": null,
   "metadata": {},
   "outputs": [],
   "source": []
  }
 ],
 "metadata": {
  "kernelspec": {
   "display_name": "mlopt",
   "language": "python",
   "name": "python3"
  },
  "language_info": {
   "codemirror_mode": {
    "name": "ipython",
    "version": 3
   },
   "file_extension": ".py",
   "mimetype": "text/x-python",
   "name": "python",
   "nbconvert_exporter": "python",
   "pygments_lexer": "ipython3",
   "version": "3.9.18"
  }
 },
 "nbformat": 4,
 "nbformat_minor": 2
}
