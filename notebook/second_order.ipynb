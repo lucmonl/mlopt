{
 "cells": [
  {
   "cell_type": "code",
   "execution_count": null,
   "metadata": {},
   "outputs": [],
   "source": [
    "! python main.py --dataset cifar --model WideResNet --loss CrossEntropyLoss --opt sophia --lr 1e-4 --epoch 100 --momentum 0.965 --analysis loss --log_interval 5 --batch_size 512 --sophia_rho 0.04 --weight_decay 0.2 --hess_interval 10"
   ]
  },
  {
   "cell_type": "code",
   "execution_count": 19,
   "metadata": {},
   "outputs": [],
   "source": [
    "import numpy as np\n",
    "import scipy\n",
    "\n",
    "m, n = 200, 50\n",
    "U, _ = scipy.linalg.qr(np.random.rand(m,n),mode='economic')\n",
    "Sigma = np.random.rand(n) * 2\n",
    "rho = 2\n",
    "\n",
    "original_matrix = scipy.linalg.sqrtm(U @ np.diag(Sigma) @ U.T + rho*np.eye(m))\n",
    "#original_matrix = U @ np.diag(np.sqrt(Sigma+rho)) @ U.T\n",
    "invere_matrix = 1/(rho**0.5)*np.eye(m) - U @ np.diag(rho**-0.5 - (Sigma+rho)**-0.5) @U.T"
   ]
  },
  {
   "cell_type": "code",
   "execution_count": 20,
   "metadata": {},
   "outputs": [
    {
     "data": {
      "text/plain": [
       "array([[ 1.00000000e+00,  4.20198859e-16,  4.44840887e-16, ...,\n",
       "         1.51685648e-16, -4.46690727e-17,  3.16401330e-16],\n",
       "       [ 3.03972388e-16,  1.00000000e+00, -1.08207310e-16, ...,\n",
       "        -7.21404932e-17,  1.32858805e-16, -6.84306397e-17],\n",
       "       [ 5.03084249e-16, -7.40712779e-17,  1.00000000e+00, ...,\n",
       "        -3.95860214e-16, -7.72410729e-17, -1.29542505e-16],\n",
       "       ...,\n",
       "       [ 2.05309054e-16,  3.41820459e-17, -4.56126658e-16, ...,\n",
       "         1.00000000e+00,  2.51637884e-17, -3.27093855e-16],\n",
       "       [-3.17766895e-17,  2.02092310e-16,  2.26024105e-18, ...,\n",
       "        -7.97812123e-18,  1.00000000e+00, -1.27752189e-16],\n",
       "       [ 3.90269740e-16, -3.39294397e-17, -2.32408535e-16, ...,\n",
       "        -2.87965973e-16, -6.75564526e-17,  1.00000000e+00]])"
      ]
     },
     "execution_count": 20,
     "metadata": {},
     "output_type": "execute_result"
    }
   ],
   "source": [
    "original_matrix @ invere_matrix"
   ]
  },
  {
   "cell_type": "code",
   "execution_count": 16,
   "metadata": {},
   "outputs": [
    {
     "data": {
      "text/plain": [
       "array([[-1.49161782e+00, -3.04601961e-02,  4.14399395e-02, ...,\n",
       "         4.73461908e-02,  2.68019670e-02, -1.70959698e-03],\n",
       "       [-3.04601961e-02, -1.56320285e+00,  7.87028778e-02, ...,\n",
       "         1.15110308e-02,  5.25082059e-04,  4.01872290e-02],\n",
       "       [ 4.14399395e-02,  7.87028778e-02, -1.43253615e+00, ...,\n",
       "         1.53254515e-02,  1.75360783e-01, -9.59311012e-02],\n",
       "       ...,\n",
       "       [ 4.73461908e-02,  1.15110308e-02,  1.53254515e-02, ...,\n",
       "        -1.58661102e+00, -7.52939931e-02, -2.58025702e-02],\n",
       "       [ 2.68019670e-02,  5.25082059e-04,  1.75360783e-01, ...,\n",
       "        -7.52939931e-02, -1.45078855e+00,  1.00758071e-04],\n",
       "       [-1.70959698e-03,  4.01872290e-02, -9.59311012e-02, ...,\n",
       "        -2.58025702e-02,  1.00758071e-04, -1.50062503e+00]])"
      ]
     },
     "execution_count": 16,
     "metadata": {},
     "output_type": "execute_result"
    }
   ],
   "source": [
    "\n",
    "original_matrix = U @ np.diag(Sigma) @ U.T + rho*np.eye(m)\n",
    "sqrt_matrix = U @ np.diag(np.sqrt(Sigma+rho)) @ U.T\n",
    "sqrt_matrix @ sqrt_matrix - original_matrix"
   ]
  },
  {
   "cell_type": "code",
   "execution_count": null,
   "metadata": {},
   "outputs": [],
   "source": []
  }
 ],
 "metadata": {
  "kernelspec": {
   "display_name": "mlopt",
   "language": "python",
   "name": "python3"
  },
  "language_info": {
   "codemirror_mode": {
    "name": "ipython",
    "version": 3
   },
   "file_extension": ".py",
   "mimetype": "text/x-python",
   "name": "python",
   "nbconvert_exporter": "python",
   "pygments_lexer": "ipython3",
   "version": "3.9.0"
  }
 },
 "nbformat": 4,
 "nbformat_minor": 2
}
