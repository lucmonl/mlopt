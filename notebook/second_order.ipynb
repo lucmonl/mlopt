{
 "cells": [
  {
   "cell_type": "code",
   "execution_count": null,
   "metadata": {},
   "outputs": [],
   "source": [
    "! python main.py --dataset cifar --model WideResNet --loss CrossEntropyLoss --opt sophia --lr 1e-4 --epoch 100 --momentum 0.965 --analysis loss --log_interval 5 --batch_size 512 --sophia_rho 0.04 --weight_decay 0.2 --hess_interval 10"
   ]
  },
  {
   "cell_type": "code",
   "execution_count": 13,
   "metadata": {},
   "outputs": [],
   "source": [
    "import numpy as np\n",
    "import scipy\n",
    "\n",
    "m, n = 200, 50\n",
    "U, _ = scipy.linalg.qr(np.random.rand(m,n),mode='economic')\n",
    "Sigma = np.random.rand(n) * 2\n",
    "rho = 2\n",
    "\n",
    "original_matrix = scipy.linalg.sqrtm(U @ np.diag(Sigma) @ U.T + rho*np.eye(m))\n",
    "#original_matrix = U @ np.diag(np.sqrt(Sigma+rho)) @ U.T\n",
    "invere_matrix = 1/(rho**0.5)*np.eye(m) - U @ np.diag(rho**0.5 - (Sigma+rho)**0.5) @U.T"
   ]
  },
  {
   "cell_type": "code",
   "execution_count": 14,
   "metadata": {},
   "outputs": [
    {
     "data": {
      "text/plain": [
       "array([[ 1.14314692, -0.024156  ,  0.00959604, ..., -0.0023493 ,\n",
       "         0.02904763, -0.02137856],\n",
       "       [-0.024156  ,  1.15394212,  0.01366423, ..., -0.02721623,\n",
       "        -0.00609265, -0.02800085],\n",
       "       [ 0.00959604,  0.01366423,  1.21495625, ..., -0.0019876 ,\n",
       "         0.03502956, -0.04411241],\n",
       "       ...,\n",
       "       [-0.0023493 , -0.02721623, -0.0019876 , ...,  1.14436333,\n",
       "        -0.03334343,  0.00759913],\n",
       "       [ 0.02904763, -0.00609265,  0.03502956, ..., -0.03334343,\n",
       "         1.18948012, -0.00737395],\n",
       "       [-0.02137856, -0.02800085, -0.04411241, ...,  0.00759913,\n",
       "        -0.00737395,  1.18731115]])"
      ]
     },
     "execution_count": 14,
     "metadata": {},
     "output_type": "execute_result"
    }
   ],
   "source": [
    "original_matrix @ invere_matrix"
   ]
  },
  {
   "cell_type": "code",
   "execution_count": 15,
   "metadata": {},
   "outputs": [
    {
     "data": {
      "text/plain": [
       "array([[ 1.11022302e-14, -2.21697660e-15, -1.49706636e-15, ...,\n",
       "        -2.52402266e-16, -2.08166817e-17, -9.12464548e-16],\n",
       "       [-2.21350716e-15, -8.88178420e-16,  2.88311042e-15, ...,\n",
       "         9.15933995e-16,  8.43075609e-16, -1.68615122e-15],\n",
       "       [-1.43635104e-15,  2.74780199e-15,  3.99680289e-15, ...,\n",
       "         4.60135402e-16, -2.02615702e-15, -1.87350135e-16],\n",
       "       ...,\n",
       "       [ 1.40078921e-16,  4.51028104e-16,  3.98119038e-16, ...,\n",
       "        -4.44089210e-16, -1.11022302e-15, -7.19910243e-16],\n",
       "       [-4.71844785e-16,  1.72171305e-15, -2.38004061e-15, ...,\n",
       "        -9.15933995e-16,  2.22044605e-15,  2.22391550e-15],\n",
       "       [-1.01307851e-15, -2.26207941e-15, -1.17961196e-16, ...,\n",
       "        -7.04297731e-16,  2.23952801e-15,  1.33226763e-15]])"
      ]
     },
     "execution_count": 15,
     "metadata": {},
     "output_type": "execute_result"
    }
   ],
   "source": [
    "\n",
    "original_matrix = U @ np.diag(Sigma) @ U.T + rho*np.eye(m)\n",
    "sqrt_matrix = U @ np.diag(np.sqrt(Sigma+rho)) @ U.T\n",
    "sqrt_matrix @ sqrt_matrix - original_matrix"
   ]
  },
  {
   "cell_type": "code",
   "execution_count": null,
   "metadata": {},
   "outputs": [],
   "source": []
  }
 ],
 "metadata": {
  "kernelspec": {
   "display_name": "mlopt",
   "language": "python",
   "name": "python3"
  },
  "language_info": {
   "codemirror_mode": {
    "name": "ipython",
    "version": 3
   },
   "file_extension": ".py",
   "mimetype": "text/x-python",
   "name": "python",
   "nbconvert_exporter": "python",
   "pygments_lexer": "ipython3",
   "version": "3.9.18"
  }
 },
 "nbformat": 4,
 "nbformat_minor": 2
}
