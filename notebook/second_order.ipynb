{
 "cells": [
  {
   "cell_type": "code",
   "execution_count": null,
   "metadata": {},
   "outputs": [],
   "source": [
    "! python main.py --dataset cifar --model WideResNet --loss CrossEntropyLoss --opt sophia --lr 1e-4 --epoch 100 --momentum 0.965 --analysis loss --log_interval 5 --batch_size 512 --sophia_rho 0.04 --weight_decay 0.2 --hess_interval 10"
   ]
  }
 ],
 "metadata": {
  "language_info": {
   "name": "python"
  }
 },
 "nbformat": 4,
 "nbformat_minor": 2
}
