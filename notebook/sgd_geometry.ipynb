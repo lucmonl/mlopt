{
 "cells": [
  {
   "cell_type": "code",
   "execution_count": null,
   "metadata": {},
   "outputs": [],
   "source": [
    "! python main.py --dataset cifar --model resnet_fixup --depth 3 --loss CrossEntropyLoss --opt dom_sgd --lr 0.004 --epoch 200 --analysis loss --batch_size 512 --weight_decay 0.0005 --train_stats 1"
   ]
  }
 ],
 "metadata": {
  "language_info": {
   "name": "python"
  }
 },
 "nbformat": 4,
 "nbformat_minor": 2
}
