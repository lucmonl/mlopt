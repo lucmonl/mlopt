{
 "cells": [
  {
   "cell_type": "code",
   "execution_count": null,
   "metadata": {},
   "outputs": [],
   "source": [
    "! python main.py --dataset cifar --model resnet18 --loss CrossEntropyLoss --opt federated --lr 0.01 --epoch 200 --analysis loss --log_interval 10 --batch_size 512 --momentum 0.9 --client_num 5 --client_lr 0.01 --client_epoch 20 --sketch_size 0.2"
   ]
  }
 ],
 "metadata": {
  "language_info": {
   "name": "python"
  }
 },
 "nbformat": 4,
 "nbformat_minor": 2
}
