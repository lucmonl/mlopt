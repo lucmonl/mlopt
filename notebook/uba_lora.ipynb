{
 "cells": [
  {
   "cell_type": "code",
   "execution_count": 2,
   "metadata": {},
   "outputs": [
    {
     "name": "stderr",
     "output_type": "stream",
     "text": [
      "/home/lucmon/lucmon/anaconda3/envs/mlopt/lib/python3.9/site-packages/tqdm/auto.py:21: TqdmWarning: IProgress not found. Please update jupyter and ipywidgets. See https://ipywidgets.readthedocs.io/en/stable/user_install.html\n",
      "  from .autonotebook import tqdm as notebook_tqdm\n"
     ]
    }
   ],
   "source": [
    "import torch\n",
    "\n",
    "m = 100\n",
    "M = torch.rand(m, m)\n",
    "eigvals, eigvecs = torch.linalg.eigh(M)\n",
    "\n",
    "a0, b0 = torch.rand(1), torch.rand(m)\n",
    "a0.requires_grad = True\n",
    "b0.requires_grad = True\n",
    "\n",
    "optimizer = torch.optim.SGD([a0, b0], lr=1.0)\n"
   ]
  },
  {
   "cell_type": "code",
   "execution_count": 4,
   "metadata": {},
   "outputs": [],
   "source": [
    "def func(a, b, M):\n",
    "    return 0.5*torch.norm(a**2 * torch.outer(b, b) - M)"
   ]
  },
  {
   "cell_type": "code",
   "execution_count": 5,
   "metadata": {},
   "outputs": [
    {
     "name": "stderr",
     "output_type": "stream",
     "text": [
      "/tmp/ipykernel_41748/1194828184.py:4: UserWarning: To copy construct from a tensor, it is recommended to use sourceTensor.clone().detach() or sourceTensor.clone().detach().requires_grad_(True), rather than torch.tensor(sourceTensor).\n",
      "  a, b = torch.tensor(a0, requires_grad=True), torch.tensor(b0+torch.rand(m)*0.1, requires_grad=True)\n"
     ]
    }
   ],
   "source": [
    "epoch = 10000\n",
    "loss_list = []\n",
    "b0 = eigvecs[:,50]\n",
    "a, b = torch.tensor(a0, requires_grad=True), torch.tensor(b0+torch.rand(m)*0.1, requires_grad=True)\n",
    "optimizer = torch.optim.SGD([{\"params\":a}, {'params': b}], lr=0.001)\n",
    "for i in range(epoch):\n",
    "    loss = func(a, b, M)\n",
    "    optimizer.zero_grad()\n",
    "    loss.backward()\n",
    "    optimizer.step()\n",
    "    loss_list.append(loss.item())"
   ]
  },
  {
   "cell_type": "code",
   "execution_count": null,
   "metadata": {},
   "outputs": [],
   "source": [
    "epoch = 10000\n",
    "loss_list = []\n",
    "b0 = eigvecs[:,50]\n",
    "a, b = torch.tensor(a0, requires_grad=True), torch.tensor(b0+torch.rand(m)*0.1, requires_grad=True)\n",
    "optimizer = torch.optim.SGD([{\"params\":a}, {'params': b}], lr=0.001)\n",
    "for i in range(epoch):\n",
    "    loss = func(a, b, M)\n",
    "    optimizer.zero_grad()\n",
    "    loss.backward()\n",
    "    optimizer.step()\n",
    "    loss_list.append(loss.item())"
   ]
  },
  {
   "cell_type": "code",
   "execution_count": 7,
   "metadata": {},
   "outputs": [
    {
     "name": "stderr",
     "output_type": "stream",
     "text": [
      "/tmp/ipykernel_4477/1421937642.py:6: UserWarning: To copy construct from a tensor, it is recommended to use sourceTensor.clone().detach() or sourceTensor.clone().detach().requires_grad_(True), rather than torch.tensor(sourceTensor).\n",
      "  a, b = torch.tensor(a0, requires_grad=True), torch.tensor(b0+torch.rand(m)*0.1, requires_grad=True)\n",
      "/tmp/ipykernel_4477/1421937642.py:15: UserWarning: To copy construct from a tensor, it is recommended to use sourceTensor.clone().detach() or sourceTensor.clone().detach().requires_grad_(True), rather than torch.tensor(sourceTensor).\n",
      "  a = torch.tensor(torch.sqrt(norm) *scale, requires_grad=True)\n",
      "/tmp/ipykernel_4477/1421937642.py:16: UserWarning: To copy construct from a tensor, it is recommended to use sourceTensor.clone().detach() or sourceTensor.clone().detach().requires_grad_(True), rather than torch.tensor(sourceTensor).\n",
      "  b = torch.tensor(torch.sqrt(norm) * b  /scale/ torch.norm(b), requires_grad=True)\n"
     ]
    }
   ],
   "source": [
    "epoch = 10000\n",
    "loss_list2 = {}\n",
    "b0 = eigvecs[:,50]\n",
    "scales = [0.5, 1, 2,4]\n",
    "for scale in scales:\n",
    "    a, b = torch.tensor(a0, requires_grad=True), torch.tensor(b0+torch.rand(m)*0.1, requires_grad=True)\n",
    "    loss_list2[scale] = []\n",
    "    for i in range(epoch):\n",
    "        optimizer = torch.optim.SGD([{\"params\":a}, {'params': b}], lr=0.001)\n",
    "        loss = func(a, b, M)\n",
    "        optimizer.zero_grad()\n",
    "        loss.backward()\n",
    "        optimizer.step()\n",
    "        norm = torch.norm(a*b)\n",
    "        a = torch.tensor(torch.sqrt(norm) *scale, requires_grad=True)\n",
    "        b = torch.tensor(torch.sqrt(norm) * b  /scale/ torch.norm(b), requires_grad=True)\n",
    "        loss_list2[scale].append(loss.item())"
   ]
  },
  {
   "cell_type": "code",
   "execution_count": 8,
   "metadata": {},
   "outputs": [
    {
     "data": {
      "text/plain": [
       "<matplotlib.legend.Legend at 0x2b72279a6ca0>"
      ]
     },
     "execution_count": 8,
     "metadata": {},
     "output_type": "execute_result"
    },
    {
     "data": {
      "image/png": "[encoded data removed]",
      "text/plain": [
       "<Figure size 640x480 with 1 Axes>"
      ]
     },
     "metadata": {},
     "output_type": "display_data"
    }
   ],
   "source": [
    "import matplotlib.pyplot as plt\n",
    "#plt.plot(loss_list)\n",
    "for scale in scales:\n",
    "    plt.plot(loss_list2[scale])\n",
    "plt.legend(scales)"
   ]
  },
  {
   "cell_type": "code",
   "execution_count": 25,
   "metadata": {},
   "outputs": [],
   "source": [
    "def cosine(a, b):\n",
    "    return a@b/torch.norm(a)/torch.norm(b)"
   ]
  },
  {
   "cell_type": "code",
   "execution_count": 62,
   "metadata": {},
   "outputs": [],
   "source": []
  },
  {
   "cell_type": "code",
   "execution_count": 63,
   "metadata": {},
   "outputs": [
    {
     "data": {
      "text/plain": [
       "tensor(0.9993, grad_fn=<DivBackward0>)"
      ]
     },
     "execution_count": 63,
     "metadata": {},
     "output_type": "execute_result"
    }
   ],
   "source": [
    "cosine(eigvecs[:,-1], b)"
   ]
  },
  {
   "cell_type": "code",
   "execution_count": null,
   "metadata": {},
   "outputs": [],
   "source": []
  }
 ],
 "metadata": {
  "kernelspec": {
   "display_name": "mlopt",
   "language": "python",
   "name": "python3"
  },
  "language_info": {
   "codemirror_mode": {
    "name": "ipython",
    "version": 3
   },
   "file_extension": ".py",
   "mimetype": "text/x-python",
   "name": "python",
   "nbconvert_exporter": "python",
   "pygments_lexer": "ipython3",
   "version": "3.9.18"
  }
 },
 "nbformat": 4,
 "nbformat_minor": 2
}
